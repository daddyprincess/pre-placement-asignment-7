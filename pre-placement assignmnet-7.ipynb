{
 "cells": [
  {
   "cell_type": "markdown",
   "id": "d829ab59-101e-46ef-82d6-fa71b850f3dc",
   "metadata": {},
   "source": [
    "## 1.isomorphic"
   ]
  },
  {
   "cell_type": "code",
   "execution_count": 6,
   "id": "574cb8f1-69af-46c8-b0dd-db4df905f2d2",
   "metadata": {},
   "outputs": [
    {
     "name": "stdout",
     "output_type": "stream",
     "text": [
      "True\n"
     ]
    }
   ],
   "source": [
    "def isomorphic(s,t):\n",
    "    if len(s) != len(t):\n",
    "        return False\n",
    "    \n",
    "    s_to_t = {}\n",
    "    t_to_s = {}\n",
    "    \n",
    "    for char_s,char_t in zip(s,t):\n",
    "        if char_s in s_to_t and s_to_t[char_s] != char_t:\n",
    "            return False\n",
    "        if char_t in t_to_s and t_to_s[char_t] != char_s:\n",
    "            return False\n",
    "        \n",
    "        if char_s not in s_to_t and char_t not in t_to_s:\n",
    "            s_to_t[char_s] = char_t\n",
    "            t_to_s[char_t] = char_s\n",
    "            \n",
    "    return True\n",
    "\n",
    "s = \"egg\"\n",
    "t = \"add\"\n",
    "print(isomorphic(s,t))\n",
    "    "
   ]
  },
  {
   "cell_type": "markdown",
   "id": "f144b4e3-c3c3-4e88-9ba9-dc2966bd93e5",
   "metadata": {},
   "source": [
    "## 2.strobogrammatic"
   ]
  },
  {
   "cell_type": "code",
   "execution_count": 7,
   "id": "f60b150c-fc46-42f6-b3a6-6f64cded1ac4",
   "metadata": {},
   "outputs": [
    {
     "name": "stdout",
     "output_type": "stream",
     "text": [
      "True\n"
     ]
    }
   ],
   "source": [
    "def is_strobogrammatic(num):\n",
    "    mapping = {\n",
    "        '0':'0',\n",
    "        '1':'1',\n",
    "        '6':'9',\n",
    "        '8':'8',\n",
    "        '9':'6'\n",
    "    }\n",
    "    \n",
    "    left, right = 0,len(num) - 1\n",
    "    \n",
    "    while left <= right:\n",
    "        left_char = num[left]\n",
    "        right_char = num[right]\n",
    "        \n",
    "        if left_char not in mapping[left_char] != right_char:\n",
    "            return False\n",
    "        \n",
    "        left += 1\n",
    "        right -= 1\n",
    "        \n",
    "    return True\n",
    "\n",
    "num = \"69\"\n",
    "print(is_strobogrammatic(num))"
   ]
  },
  {
   "cell_type": "markdown",
   "id": "ffa9dd61-6df3-4b5e-b7bd-abed6a5a7719",
   "metadata": {},
   "source": [
    "## 3.add string"
   ]
  },
  {
   "cell_type": "code",
   "execution_count": 16,
   "id": "2e48dccd-0ca8-409a-b493-9a655ad9fdca",
   "metadata": {},
   "outputs": [
    {
     "name": "stdout",
     "output_type": "stream",
     "text": [
      "134\n"
     ]
    }
   ],
   "source": [
    "def addStrings(num1: str, num2: str) -> str:\n",
    "    result = \"\"\n",
    "    i = len(num1) - 1\n",
    "    j = len(num2) - 1\n",
    "    carry = 0\n",
    "    \n",
    "    while i >= 0 or j >= 0:\n",
    "        if i >= 0:\n",
    "            digit1 = ord(num1[i]) - ord('0')\n",
    "        else:\n",
    "            digit1 = 0\n",
    "        \n",
    "        if j >= 0:\n",
    "            digit2 = ord(num2[j]) - ord('0')\n",
    "        else:\n",
    "            digit2 = 0\n",
    "        \n",
    "        current_sum = digit1 + digit2 + carry\n",
    "        carry = current_sum // 10\n",
    "        current_sum %= 10\n",
    "        \n",
    "        result = str(current_sum) + result\n",
    "        \n",
    "        i -= 1\n",
    "        j -= 1\n",
    "    \n",
    "    if carry != 0:\n",
    "        result = str(carry) + result\n",
    "    \n",
    "    return result\n",
    "num1 = \"11\"\n",
    "num2 = \"123\"\n",
    "print(addStrings(num1, num2))\n"
   ]
  },
  {
   "cell_type": "markdown",
   "id": "0dda3d9f-5edf-4b00-8697-9f22458085ea",
   "metadata": {},
   "source": [
    "## 4.reverse words"
   ]
  },
  {
   "cell_type": "code",
   "execution_count": 20,
   "id": "d55f074d-127e-46d4-9a30-8ba86270edda",
   "metadata": {},
   "outputs": [
    {
     "name": "stdout",
     "output_type": "stream",
     "text": [
      "s'teL ekat edoCteeL tsetnoc\n"
     ]
    }
   ],
   "source": [
    "def reverseWords(s: str) -> str:\n",
    "    words = s.split()\n",
    "    reversed_words = []\n",
    "    \n",
    "    for word in words:\n",
    "        reversed_word = word[::-1]\n",
    "        reversed_words.append(reversed_word)\n",
    "    \n",
    "    reversed_s = ' '.join(reversed_words)\n",
    "    return reversed_s\n",
    "s = \"Let's take LeetCode contest\"\n",
    "print(reverseWords(s))"
   ]
  },
  {
   "cell_type": "markdown",
   "id": "4525970e-378f-4821-bbba-31fcb9c4a22a",
   "metadata": {},
   "source": [
    "## 5.reversestr"
   ]
  },
  {
   "cell_type": "code",
   "execution_count": 21,
   "id": "f9bf3bb8-003c-4f1c-8fa6-6fc2eaad8646",
   "metadata": {},
   "outputs": [
    {
     "name": "stdout",
     "output_type": "stream",
     "text": [
      "bacdfeg\n"
     ]
    }
   ],
   "source": [
    "def reverseStr(s: str, k: int) -> str:\n",
    "    chars = list(s)\n",
    "    n = len(chars)\n",
    "    \n",
    "    for i in range(0, n, 2*k):\n",
    "        chars[i:i+k] = chars[i:i+k][::-1]\n",
    "    \n",
    "    return ''.join(chars)\n",
    "s = \"abcdefg\"\n",
    "k = 2\n",
    "print(reverseStr(s, k))\n"
   ]
  },
  {
   "cell_type": "markdown",
   "id": "f0ec54cf-fa24-4893-9923-fa877e921bed",
   "metadata": {},
   "source": [
    "## 6.rotate string"
   ]
  },
  {
   "cell_type": "code",
   "execution_count": 25,
   "id": "f3e6f99c-af89-4405-a2b3-6a515fd5150b",
   "metadata": {},
   "outputs": [
    {
     "name": "stdout",
     "output_type": "stream",
     "text": [
      "True\n"
     ]
    }
   ],
   "source": [
    "def rotateString(s: str, goal: str) -> bool:\n",
    "    if len(s) != len(goal):\n",
    "        return False\n",
    "    \n",
    "    s_double = s + s\n",
    "    return goal in s_double\n",
    "\n",
    "\n",
    "s = \"abcde\"\n",
    "goal = \"cdeab\"\n",
    "print(rotateString(s, goal))\n"
   ]
  },
  {
   "cell_type": "markdown",
   "id": "80310bf0-34ac-4baa-8195-54528e0916a1",
   "metadata": {},
   "source": [
    "## 7.back space compare"
   ]
  },
  {
   "cell_type": "code",
   "execution_count": 24,
   "id": "c53c5b26-3799-4ec9-bff2-1fc7a757c80d",
   "metadata": {},
   "outputs": [
    {
     "name": "stdout",
     "output_type": "stream",
     "text": [
      "True\n"
     ]
    }
   ],
   "source": [
    "def backspaceCompare(s: str, t: str) -> bool:\n",
    "    def processString(string: str) -> str:\n",
    "        stack = []\n",
    "        for ch in string:\n",
    "            if ch != '#':\n",
    "                stack.append(ch)\n",
    "            elif stack:\n",
    "                stack.pop()\n",
    "        return ''.join(stack)\n",
    "\n",
    "    return processString(s) == processString(t)\n",
    "\n",
    "\n",
    "s = \"ab#c\"\n",
    "t = \"ad#c\"\n",
    "print(backspaceCompare(s, t))\n"
   ]
  },
  {
   "cell_type": "code",
   "execution_count": null,
   "id": "9499bbfa-56e8-4901-bb65-89322eea7849",
   "metadata": {},
   "outputs": [],
   "source": [
    "-Define a helper function processString(string: str) -> str that takes a string string and returns the final \n",
    " processed string after considering the backspaces. This function simulates the typing process by maintaining \n",
    "a stack.\n",
    "   ~Initialize an empty stack.\n",
    "    ~Iterate through each character ch in the string:\n",
    "        ~If ch is not '#', push it onto the stack.\n",
    "         ~If ch is '#', pop an element from the stack if the stack is not empty.\n",
    "    ~Convert the remaining elements in the stack into a string and return it as the final processed string.\n",
    "-Process both strings s and t using the processString function.\n",
    "-Compare the processed strings of s and t. If they are equal, return True; otherwise, return False."
   ]
  },
  {
   "cell_type": "code",
   "execution_count": null,
   "id": "d7f471e6-67ac-4b2f-a580-923123aa7e71",
   "metadata": {},
   "outputs": [],
   "source": [
    "## 8."
   ]
  },
  {
   "cell_type": "code",
   "execution_count": null,
   "id": "48935ed5-148f-4a7b-8e87-c4e20079ff5e",
   "metadata": {},
   "outputs": [],
   "source": [
    "def checkStraightLine(coordinates):\n",
    "    # Retrieve the first two points\n",
    "    x1, y1 = coordinates[0]\n",
    "    x2, y2 = coordinates[1]\n",
    "    \n",
    "    # Calculate the initial slope\n",
    "    slope = (y2 - y1) / (x2 - x1)\n",
    "    \n",
    "    # Iterate through the remaining points\n",
    "    for i in range(2, len(coordinates)):\n",
    "        x, y = coordinates[i]\n",
    "        \n",
    "        # Calculate the slope between the current point and the first point\n",
    "        current_slope = (y - y1) / (x - x1)\n",
    "        \n",
    "        # If the current slope is different from the initial slope, return false\n",
    "        if current_slope != slope:\n",
    "            return False\n",
    "    \n",
    "    # If all slopes are the same, return true\n",
    "    return True\n"
   ]
  }
 ],
 "metadata": {
  "kernelspec": {
   "display_name": "Python 3 (ipykernel)",
   "language": "python",
   "name": "python3"
  },
  "language_info": {
   "codemirror_mode": {
    "name": "ipython",
    "version": 3
   },
   "file_extension": ".py",
   "mimetype": "text/x-python",
   "name": "python",
   "nbconvert_exporter": "python",
   "pygments_lexer": "ipython3",
   "version": "3.10.8"
  }
 },
 "nbformat": 4,
 "nbformat_minor": 5
}
